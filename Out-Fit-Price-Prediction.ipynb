{
 "cells": [
  {
   "cell_type": "code",
   "execution_count": 1,
   "id": "79540feb",
   "metadata": {},
   "outputs": [],
   "source": [
    "import pandas as pd\n",
    "import numpy as np\n",
    "import seaborn as sns\n",
    "from sklearn import linear_model\n",
    "\n",
    "df = pd.read_csv('Outfit_Price_Prediction.csv')\n"
   ]
  },
  {
   "cell_type": "code",
   "execution_count": 2,
   "id": "e9c7fcdc",
   "metadata": {},
   "outputs": [
    {
     "data": {
      "text/html": [
       "<div>\n",
       "<style scoped>\n",
       "    .dataframe tbody tr th:only-of-type {\n",
       "        vertical-align: middle;\n",
       "    }\n",
       "\n",
       "    .dataframe tbody tr th {\n",
       "        vertical-align: top;\n",
       "    }\n",
       "\n",
       "    .dataframe thead th {\n",
       "        text-align: right;\n",
       "    }\n",
       "</style>\n",
       "<table border=\"1\" class=\"dataframe\">\n",
       "  <thead>\n",
       "    <tr style=\"text-align: right;\">\n",
       "      <th></th>\n",
       "      <th>Gender</th>\n",
       "      <th>Style</th>\n",
       "      <th>Type</th>\n",
       "      <th>Size</th>\n",
       "      <th>Fabric</th>\n",
       "      <th>Brand</th>\n",
       "      <th>Price range</th>\n",
       "      <th>Up</th>\n",
       "      <th>Low</th>\n",
       "      <th>Average</th>\n",
       "    </tr>\n",
       "  </thead>\n",
       "  <tbody>\n",
       "    <tr>\n",
       "      <th>0</th>\n",
       "      <td>Male</td>\n",
       "      <td>Formal</td>\n",
       "      <td>Shirt</td>\n",
       "      <td>L</td>\n",
       "      <td>Denim</td>\n",
       "      <td>Cats eye</td>\n",
       "      <td>700-1000</td>\n",
       "      <td>700</td>\n",
       "      <td>1000</td>\n",
       "      <td>850.0</td>\n",
       "    </tr>\n",
       "    <tr>\n",
       "      <th>1</th>\n",
       "      <td>Female</td>\n",
       "      <td>Traditional</td>\n",
       "      <td>Salwar Kameez</td>\n",
       "      <td>L</td>\n",
       "      <td>Mixed</td>\n",
       "      <td>None</td>\n",
       "      <td>501-1000</td>\n",
       "      <td>501</td>\n",
       "      <td>1000</td>\n",
       "      <td>750.5</td>\n",
       "    </tr>\n",
       "    <tr>\n",
       "      <th>2</th>\n",
       "      <td>Male</td>\n",
       "      <td>Casual</td>\n",
       "      <td>T-Shirt</td>\n",
       "      <td>XL</td>\n",
       "      <td>Cotton</td>\n",
       "      <td>None</td>\n",
       "      <td>0-500</td>\n",
       "      <td>0</td>\n",
       "      <td>500</td>\n",
       "      <td>250.0</td>\n",
       "    </tr>\n",
       "    <tr>\n",
       "      <th>3</th>\n",
       "      <td>Male</td>\n",
       "      <td>Casual</td>\n",
       "      <td>T-Shirt</td>\n",
       "      <td>S</td>\n",
       "      <td>Mixed</td>\n",
       "      <td>None</td>\n",
       "      <td>0-500</td>\n",
       "      <td>0</td>\n",
       "      <td>500</td>\n",
       "      <td>250.0</td>\n",
       "    </tr>\n",
       "    <tr>\n",
       "      <th>4</th>\n",
       "      <td>Male</td>\n",
       "      <td>Formal</td>\n",
       "      <td>Shirt</td>\n",
       "      <td>S</td>\n",
       "      <td>Mixed</td>\n",
       "      <td>None</td>\n",
       "      <td>501-1000</td>\n",
       "      <td>501</td>\n",
       "      <td>1000</td>\n",
       "      <td>750.5</td>\n",
       "    </tr>\n",
       "    <tr>\n",
       "      <th>...</th>\n",
       "      <td>...</td>\n",
       "      <td>...</td>\n",
       "      <td>...</td>\n",
       "      <td>...</td>\n",
       "      <td>...</td>\n",
       "      <td>...</td>\n",
       "      <td>...</td>\n",
       "      <td>...</td>\n",
       "      <td>...</td>\n",
       "      <td>...</td>\n",
       "    </tr>\n",
       "    <tr>\n",
       "      <th>321</th>\n",
       "      <td>Female</td>\n",
       "      <td>Casual</td>\n",
       "      <td>Tops</td>\n",
       "      <td>S</td>\n",
       "      <td>Mixed</td>\n",
       "      <td>Zaara</td>\n",
       "      <td>501-1000</td>\n",
       "      <td>501</td>\n",
       "      <td>1000</td>\n",
       "      <td>750.5</td>\n",
       "    </tr>\n",
       "    <tr>\n",
       "      <th>322</th>\n",
       "      <td>Female</td>\n",
       "      <td>Casual</td>\n",
       "      <td>Salwar Kameez</td>\n",
       "      <td>XL</td>\n",
       "      <td>Mixed</td>\n",
       "      <td>Aarong</td>\n",
       "      <td>2001-3000</td>\n",
       "      <td>2001</td>\n",
       "      <td>3000</td>\n",
       "      <td>2500.5</td>\n",
       "    </tr>\n",
       "    <tr>\n",
       "      <th>323</th>\n",
       "      <td>Male</td>\n",
       "      <td>Formal</td>\n",
       "      <td>Shirt</td>\n",
       "      <td>XL</td>\n",
       "      <td>Denim</td>\n",
       "      <td>None</td>\n",
       "      <td>1501-2000</td>\n",
       "      <td>1501</td>\n",
       "      <td>2000</td>\n",
       "      <td>1750.5</td>\n",
       "    </tr>\n",
       "    <tr>\n",
       "      <th>324</th>\n",
       "      <td>Male</td>\n",
       "      <td>Formal</td>\n",
       "      <td>Shirt</td>\n",
       "      <td>XXL</td>\n",
       "      <td>Mixed</td>\n",
       "      <td>Cats eye</td>\n",
       "      <td>2001-3000</td>\n",
       "      <td>2001</td>\n",
       "      <td>3000</td>\n",
       "      <td>2500.5</td>\n",
       "    </tr>\n",
       "    <tr>\n",
       "      <th>325</th>\n",
       "      <td>Male</td>\n",
       "      <td>Traditional</td>\n",
       "      <td>Panjabi</td>\n",
       "      <td>L</td>\n",
       "      <td>Cotton</td>\n",
       "      <td>Aarong</td>\n",
       "      <td>1501-2000</td>\n",
       "      <td>1501</td>\n",
       "      <td>2000</td>\n",
       "      <td>1750.5</td>\n",
       "    </tr>\n",
       "  </tbody>\n",
       "</table>\n",
       "<p>326 rows × 10 columns</p>\n",
       "</div>"
      ],
      "text/plain": [
       "     Gender        Style           Type Size  Fabric     Brand Price range  \\\n",
       "0      Male       Formal          Shirt    L   Denim  Cats eye    700-1000   \n",
       "1    Female  Traditional  Salwar Kameez    L   Mixed      None    501-1000   \n",
       "2      Male       Casual        T-Shirt   XL  Cotton      None       0-500   \n",
       "3      Male       Casual        T-Shirt    S   Mixed      None       0-500   \n",
       "4      Male       Formal          Shirt    S   Mixed      None    501-1000   \n",
       "..      ...          ...            ...  ...     ...       ...         ...   \n",
       "321  Female       Casual           Tops    S   Mixed     Zaara    501-1000   \n",
       "322  Female       Casual  Salwar Kameez   XL   Mixed    Aarong   2001-3000   \n",
       "323    Male       Formal          Shirt   XL   Denim      None   1501-2000   \n",
       "324    Male       Formal          Shirt  XXL   Mixed  Cats eye   2001-3000   \n",
       "325    Male  Traditional        Panjabi    L  Cotton    Aarong   1501-2000   \n",
       "\n",
       "       Up   Low  Average  \n",
       "0     700  1000    850.0  \n",
       "1     501  1000    750.5  \n",
       "2       0   500    250.0  \n",
       "3       0   500    250.0  \n",
       "4     501  1000    750.5  \n",
       "..    ...   ...      ...  \n",
       "321   501  1000    750.5  \n",
       "322  2001  3000   2500.5  \n",
       "323  1501  2000   1750.5  \n",
       "324  2001  3000   2500.5  \n",
       "325  1501  2000   1750.5  \n",
       "\n",
       "[326 rows x 10 columns]"
      ]
     },
     "execution_count": 2,
     "metadata": {},
     "output_type": "execute_result"
    }
   ],
   "source": [
    "df"
   ]
  },
  {
   "cell_type": "code",
   "execution_count": 3,
   "id": "69c70087",
   "metadata": {},
   "outputs": [],
   "source": [
    "df_1 = df.drop(['Price range','Up','Low'],axis = 'columns')"
   ]
  },
  {
   "cell_type": "code",
   "execution_count": 4,
   "id": "d0211fe3",
   "metadata": {},
   "outputs": [
    {
     "data": {
      "text/html": [
       "<div>\n",
       "<style scoped>\n",
       "    .dataframe tbody tr th:only-of-type {\n",
       "        vertical-align: middle;\n",
       "    }\n",
       "\n",
       "    .dataframe tbody tr th {\n",
       "        vertical-align: top;\n",
       "    }\n",
       "\n",
       "    .dataframe thead th {\n",
       "        text-align: right;\n",
       "    }\n",
       "</style>\n",
       "<table border=\"1\" class=\"dataframe\">\n",
       "  <thead>\n",
       "    <tr style=\"text-align: right;\">\n",
       "      <th></th>\n",
       "      <th>Gender</th>\n",
       "      <th>Style</th>\n",
       "      <th>Type</th>\n",
       "      <th>Size</th>\n",
       "      <th>Fabric</th>\n",
       "      <th>Brand</th>\n",
       "      <th>Average</th>\n",
       "    </tr>\n",
       "  </thead>\n",
       "  <tbody>\n",
       "    <tr>\n",
       "      <th>0</th>\n",
       "      <td>Male</td>\n",
       "      <td>Formal</td>\n",
       "      <td>Shirt</td>\n",
       "      <td>L</td>\n",
       "      <td>Denim</td>\n",
       "      <td>Cats eye</td>\n",
       "      <td>850.0</td>\n",
       "    </tr>\n",
       "    <tr>\n",
       "      <th>1</th>\n",
       "      <td>Female</td>\n",
       "      <td>Traditional</td>\n",
       "      <td>Salwar Kameez</td>\n",
       "      <td>L</td>\n",
       "      <td>Mixed</td>\n",
       "      <td>None</td>\n",
       "      <td>750.5</td>\n",
       "    </tr>\n",
       "    <tr>\n",
       "      <th>2</th>\n",
       "      <td>Male</td>\n",
       "      <td>Casual</td>\n",
       "      <td>T-Shirt</td>\n",
       "      <td>XL</td>\n",
       "      <td>Cotton</td>\n",
       "      <td>None</td>\n",
       "      <td>250.0</td>\n",
       "    </tr>\n",
       "    <tr>\n",
       "      <th>3</th>\n",
       "      <td>Male</td>\n",
       "      <td>Casual</td>\n",
       "      <td>T-Shirt</td>\n",
       "      <td>S</td>\n",
       "      <td>Mixed</td>\n",
       "      <td>None</td>\n",
       "      <td>250.0</td>\n",
       "    </tr>\n",
       "    <tr>\n",
       "      <th>4</th>\n",
       "      <td>Male</td>\n",
       "      <td>Formal</td>\n",
       "      <td>Shirt</td>\n",
       "      <td>S</td>\n",
       "      <td>Mixed</td>\n",
       "      <td>None</td>\n",
       "      <td>750.5</td>\n",
       "    </tr>\n",
       "    <tr>\n",
       "      <th>...</th>\n",
       "      <td>...</td>\n",
       "      <td>...</td>\n",
       "      <td>...</td>\n",
       "      <td>...</td>\n",
       "      <td>...</td>\n",
       "      <td>...</td>\n",
       "      <td>...</td>\n",
       "    </tr>\n",
       "    <tr>\n",
       "      <th>321</th>\n",
       "      <td>Female</td>\n",
       "      <td>Casual</td>\n",
       "      <td>Tops</td>\n",
       "      <td>S</td>\n",
       "      <td>Mixed</td>\n",
       "      <td>Zaara</td>\n",
       "      <td>750.5</td>\n",
       "    </tr>\n",
       "    <tr>\n",
       "      <th>322</th>\n",
       "      <td>Female</td>\n",
       "      <td>Casual</td>\n",
       "      <td>Salwar Kameez</td>\n",
       "      <td>XL</td>\n",
       "      <td>Mixed</td>\n",
       "      <td>Aarong</td>\n",
       "      <td>2500.5</td>\n",
       "    </tr>\n",
       "    <tr>\n",
       "      <th>323</th>\n",
       "      <td>Male</td>\n",
       "      <td>Formal</td>\n",
       "      <td>Shirt</td>\n",
       "      <td>XL</td>\n",
       "      <td>Denim</td>\n",
       "      <td>None</td>\n",
       "      <td>1750.5</td>\n",
       "    </tr>\n",
       "    <tr>\n",
       "      <th>324</th>\n",
       "      <td>Male</td>\n",
       "      <td>Formal</td>\n",
       "      <td>Shirt</td>\n",
       "      <td>XXL</td>\n",
       "      <td>Mixed</td>\n",
       "      <td>Cats eye</td>\n",
       "      <td>2500.5</td>\n",
       "    </tr>\n",
       "    <tr>\n",
       "      <th>325</th>\n",
       "      <td>Male</td>\n",
       "      <td>Traditional</td>\n",
       "      <td>Panjabi</td>\n",
       "      <td>L</td>\n",
       "      <td>Cotton</td>\n",
       "      <td>Aarong</td>\n",
       "      <td>1750.5</td>\n",
       "    </tr>\n",
       "  </tbody>\n",
       "</table>\n",
       "<p>326 rows × 7 columns</p>\n",
       "</div>"
      ],
      "text/plain": [
       "     Gender        Style           Type Size  Fabric     Brand  Average\n",
       "0      Male       Formal          Shirt    L   Denim  Cats eye    850.0\n",
       "1    Female  Traditional  Salwar Kameez    L   Mixed      None    750.5\n",
       "2      Male       Casual        T-Shirt   XL  Cotton      None    250.0\n",
       "3      Male       Casual        T-Shirt    S   Mixed      None    250.0\n",
       "4      Male       Formal          Shirt    S   Mixed      None    750.5\n",
       "..      ...          ...            ...  ...     ...       ...      ...\n",
       "321  Female       Casual           Tops    S   Mixed     Zaara    750.5\n",
       "322  Female       Casual  Salwar Kameez   XL   Mixed    Aarong   2500.5\n",
       "323    Male       Formal          Shirt   XL   Denim      None   1750.5\n",
       "324    Male       Formal          Shirt  XXL   Mixed  Cats eye   2500.5\n",
       "325    Male  Traditional        Panjabi    L  Cotton    Aarong   1750.5\n",
       "\n",
       "[326 rows x 7 columns]"
      ]
     },
     "execution_count": 4,
     "metadata": {},
     "output_type": "execute_result"
    }
   ],
   "source": [
    "df_1"
   ]
  },
  {
   "cell_type": "code",
   "execution_count": 5,
   "id": "c936e964",
   "metadata": {},
   "outputs": [],
   "source": [
    "df_2 = df_1.dropna()"
   ]
  },
  {
   "cell_type": "code",
   "execution_count": 6,
   "id": "0261e1f3",
   "metadata": {
    "scrolled": true
   },
   "outputs": [
    {
     "name": "stderr",
     "output_type": "stream",
     "text": [
      "E:\\Anaconda\\lib\\site-packages\\pandas\\core\\frame.py:3641: SettingWithCopyWarning: \n",
      "A value is trying to be set on a copy of a slice from a DataFrame.\n",
      "Try using .loc[row_indexer,col_indexer] = value instead\n",
      "\n",
      "See the caveats in the documentation: https://pandas.pydata.org/pandas-docs/stable/user_guide/indexing.html#returning-a-view-versus-a-copy\n",
      "  self[k1] = value[k2]\n"
     ]
    }
   ],
   "source": [
    "categorical_cols = ['Gender','Style','Type','Size','Fabric','Brand'] \n",
    "\n",
    "from sklearn.preprocessing import LabelEncoder\n",
    "# instantiate labelencoder object\n",
    "le = LabelEncoder()\n",
    "\n",
    "# apply le on categorical feature columns\n",
    "df_2[categorical_cols] = df_2[categorical_cols].apply(lambda col: le.fit_transform(col))"
   ]
  },
  {
   "cell_type": "code",
   "execution_count": 7,
   "id": "1c34aaf9",
   "metadata": {},
   "outputs": [],
   "source": [
    "# Polynomial"
   ]
  },
  {
   "cell_type": "code",
   "execution_count": 8,
   "id": "8f628106",
   "metadata": {},
   "outputs": [
    {
     "data": {
      "text/html": [
       "<div>\n",
       "<style scoped>\n",
       "    .dataframe tbody tr th:only-of-type {\n",
       "        vertical-align: middle;\n",
       "    }\n",
       "\n",
       "    .dataframe tbody tr th {\n",
       "        vertical-align: top;\n",
       "    }\n",
       "\n",
       "    .dataframe thead th {\n",
       "        text-align: right;\n",
       "    }\n",
       "</style>\n",
       "<table border=\"1\" class=\"dataframe\">\n",
       "  <thead>\n",
       "    <tr style=\"text-align: right;\">\n",
       "      <th></th>\n",
       "      <th>Gender</th>\n",
       "      <th>Style</th>\n",
       "      <th>Type</th>\n",
       "      <th>Size</th>\n",
       "      <th>Fabric</th>\n",
       "      <th>Brand</th>\n",
       "      <th>Average</th>\n",
       "    </tr>\n",
       "  </thead>\n",
       "  <tbody>\n",
       "    <tr>\n",
       "      <th>0</th>\n",
       "      <td>1</td>\n",
       "      <td>1</td>\n",
       "      <td>4</td>\n",
       "      <td>0</td>\n",
       "      <td>1</td>\n",
       "      <td>1</td>\n",
       "      <td>850.0</td>\n",
       "    </tr>\n",
       "    <tr>\n",
       "      <th>1</th>\n",
       "      <td>0</td>\n",
       "      <td>2</td>\n",
       "      <td>2</td>\n",
       "      <td>0</td>\n",
       "      <td>2</td>\n",
       "      <td>2</td>\n",
       "      <td>750.5</td>\n",
       "    </tr>\n",
       "    <tr>\n",
       "      <th>2</th>\n",
       "      <td>1</td>\n",
       "      <td>0</td>\n",
       "      <td>5</td>\n",
       "      <td>3</td>\n",
       "      <td>0</td>\n",
       "      <td>2</td>\n",
       "      <td>250.0</td>\n",
       "    </tr>\n",
       "    <tr>\n",
       "      <th>3</th>\n",
       "      <td>1</td>\n",
       "      <td>0</td>\n",
       "      <td>5</td>\n",
       "      <td>2</td>\n",
       "      <td>2</td>\n",
       "      <td>2</td>\n",
       "      <td>250.0</td>\n",
       "    </tr>\n",
       "    <tr>\n",
       "      <th>4</th>\n",
       "      <td>1</td>\n",
       "      <td>1</td>\n",
       "      <td>4</td>\n",
       "      <td>2</td>\n",
       "      <td>2</td>\n",
       "      <td>2</td>\n",
       "      <td>750.5</td>\n",
       "    </tr>\n",
       "    <tr>\n",
       "      <th>...</th>\n",
       "      <td>...</td>\n",
       "      <td>...</td>\n",
       "      <td>...</td>\n",
       "      <td>...</td>\n",
       "      <td>...</td>\n",
       "      <td>...</td>\n",
       "      <td>...</td>\n",
       "    </tr>\n",
       "    <tr>\n",
       "      <th>321</th>\n",
       "      <td>0</td>\n",
       "      <td>0</td>\n",
       "      <td>6</td>\n",
       "      <td>2</td>\n",
       "      <td>2</td>\n",
       "      <td>4</td>\n",
       "      <td>750.5</td>\n",
       "    </tr>\n",
       "    <tr>\n",
       "      <th>322</th>\n",
       "      <td>0</td>\n",
       "      <td>0</td>\n",
       "      <td>2</td>\n",
       "      <td>3</td>\n",
       "      <td>2</td>\n",
       "      <td>0</td>\n",
       "      <td>2500.5</td>\n",
       "    </tr>\n",
       "    <tr>\n",
       "      <th>323</th>\n",
       "      <td>1</td>\n",
       "      <td>1</td>\n",
       "      <td>4</td>\n",
       "      <td>3</td>\n",
       "      <td>1</td>\n",
       "      <td>2</td>\n",
       "      <td>1750.5</td>\n",
       "    </tr>\n",
       "    <tr>\n",
       "      <th>324</th>\n",
       "      <td>1</td>\n",
       "      <td>1</td>\n",
       "      <td>4</td>\n",
       "      <td>5</td>\n",
       "      <td>2</td>\n",
       "      <td>1</td>\n",
       "      <td>2500.5</td>\n",
       "    </tr>\n",
       "    <tr>\n",
       "      <th>325</th>\n",
       "      <td>1</td>\n",
       "      <td>2</td>\n",
       "      <td>0</td>\n",
       "      <td>0</td>\n",
       "      <td>0</td>\n",
       "      <td>0</td>\n",
       "      <td>1750.5</td>\n",
       "    </tr>\n",
       "  </tbody>\n",
       "</table>\n",
       "<p>297 rows × 7 columns</p>\n",
       "</div>"
      ],
      "text/plain": [
       "     Gender  Style  Type  Size  Fabric  Brand  Average\n",
       "0         1      1     4     0       1      1    850.0\n",
       "1         0      2     2     0       2      2    750.5\n",
       "2         1      0     5     3       0      2    250.0\n",
       "3         1      0     5     2       2      2    250.0\n",
       "4         1      1     4     2       2      2    750.5\n",
       "..      ...    ...   ...   ...     ...    ...      ...\n",
       "321       0      0     6     2       2      4    750.5\n",
       "322       0      0     2     3       2      0   2500.5\n",
       "323       1      1     4     3       1      2   1750.5\n",
       "324       1      1     4     5       2      1   2500.5\n",
       "325       1      2     0     0       0      0   1750.5\n",
       "\n",
       "[297 rows x 7 columns]"
      ]
     },
     "execution_count": 8,
     "metadata": {},
     "output_type": "execute_result"
    }
   ],
   "source": [
    "df_2"
   ]
  },
  {
   "cell_type": "markdown",
   "id": "b1545bee",
   "metadata": {},
   "source": [
    "# Linear Regression"
   ]
  },
  {
   "cell_type": "code",
   "execution_count": 16,
   "id": "5f9fc08a",
   "metadata": {},
   "outputs": [
    {
     "data": {
      "text/plain": [
       "LinearRegression()"
      ]
     },
     "execution_count": 16,
     "metadata": {},
     "output_type": "execute_result"
    }
   ],
   "source": [
    "X= df_2.iloc[:,0:6].values\n",
    "Y= df_2.iloc[:,6:7].values\n",
    "\n",
    "reg = linear_model.LinearRegression()\n",
    "\n",
    "from sklearn.preprocessing import StandardScaler\n",
    "from sklearn.metrics import mean_squared_error as MSE\n",
    "from sklearn.metrics import mean_absolute_error as MAE\n",
    "from sklearn.metrics import r2_score as r2\n",
    "\n",
    "scale = StandardScaler()\n",
    "X= scale.fit_transform(X)\n",
    "Y= scale.fit_transform(Y)\n",
    "\n",
    "from sklearn.model_selection import train_test_split\n",
    "X_train, X_test, Y_train, Y_test = train_test_split(X,Y,test_size=.2,random_state=0)\n",
    "\n",
    "reg.fit(X_train,Y_train)"
   ]
  },
  {
   "cell_type": "code",
   "execution_count": 17,
   "id": "53822fd2",
   "metadata": {},
   "outputs": [
    {
     "name": "stdout",
     "output_type": "stream",
     "text": [
      "MSE of Linear Regression:  0.6492451124633372\n",
      "RMSE of Linear Regression:  0.8057574774479832\n",
      "MAE of Linear Regression:  0.5846196271093196\n",
      "R_Square of Linear Regression:  0.15380782452652242\n"
     ]
    }
   ],
   "source": [
    "y_pred = reg.predict(X_test)\n",
    "y_pred\n",
    "mse_l = MSE(Y_test,y_pred)\n",
    "print(\"MSE of Linear Regression: \",mse_l)\n",
    "rmse_l = mse_l**(1/2)\n",
    "print(\"RMSE of Linear Regression: \",rmse_l)\n",
    "mae_l = MAE(Y_test,y_pred)\n",
    "print(\"MAE of Linear Regression: \",mae_l)\n",
    "rsquare_l = r2(Y_test,y_pred)\n",
    "print(\"R_Square of Linear Regression: \",rsquare_l)\n"
   ]
  },
  {
   "cell_type": "code",
   "execution_count": 18,
   "id": "1e180f84",
   "metadata": {},
   "outputs": [
    {
     "data": {
      "text/plain": [
       "array([[0.9010899]])"
      ]
     },
     "execution_count": 18,
     "metadata": {},
     "output_type": "execute_result"
    }
   ],
   "source": [
    "y_pred\n",
    "reg.predict([[1,1,4,4,0,1]])"
   ]
  },
  {
   "cell_type": "markdown",
   "id": "d57ae2ff",
   "metadata": {},
   "source": [
    "# Polynomial Regression"
   ]
  },
  {
   "cell_type": "code",
   "execution_count": 15,
   "id": "accd1580",
   "metadata": {},
   "outputs": [
    {
     "name": "stdout",
     "output_type": "stream",
     "text": [
      "MSE of Polynomial Regression:  54.55790816323334\n",
      "RMSE of Polynomial Regression:  7.386332524550553\n",
      "MAE of Polynomial Regression:  0.9535714285952092\n",
      "R_Square of Polynomial Regression:  0.9998089877721263\n"
     ]
    }
   ],
   "source": [
    "from sklearn.preprocessing import PolynomialFeatures\n",
    "poly = PolynomialFeatures(degree=3)\n",
    "x_poly = poly.fit_transform(X_train)\n",
    "poly.fit(X_train,Y_train)\n",
    "\n",
    "from sklearn.linear_model import LinearRegression\n",
    "model = LinearRegression()\n",
    "model.fit(x_poly,Y_train)\n",
    "\n",
    "\n",
    "\n",
    "y_pred = model.predict(poly.fit_transform(X_test))\n",
    "y_pred\n",
    "mse_p = MSE(Y_test,y_pred)\n",
    "print(\"MSE of Polynomial Regression: \",mse_p)\n",
    "rmse_p = mse_p**(1/2)\n",
    "print(\"RMSE of Polynomial Regression: \",rmse_p)\n",
    "mae_p = MAE(Y_test,y_pred)\n",
    "print(\"MAE of Polynomial Regression: \",mae_p)\n",
    "rsquare_p = r2(Y_test,y_pred)\n",
    "print(\"R_Square of Polynomial Regression: \",rsquare_p)\n"
   ]
  },
  {
   "cell_type": "markdown",
   "id": "ddec1434",
   "metadata": {},
   "source": [
    "# Random Forest Regression"
   ]
  },
  {
   "cell_type": "code",
   "execution_count": 19,
   "id": "52f950ee",
   "metadata": {},
   "outputs": [
    {
     "name": "stdout",
     "output_type": "stream",
     "text": [
      "MSE of Random Forest Regression:  0.019776410106872297\n",
      "RMSE of Random Forest Regression:  0.14062862477771834\n",
      "MAE of Random Forest Regression:  0.06336482876962933\n",
      "R_Square of Random Forest Regression:  0.9742244598070271\n"
     ]
    },
    {
     "name": "stderr",
     "output_type": "stream",
     "text": [
      "C:\\Users\\HASANC~1\\AppData\\Local\\Temp/ipykernel_10756/1444256027.py:4: DataConversionWarning: A column-vector y was passed when a 1d array was expected. Please change the shape of y to (n_samples,), for example using ravel().\n",
      "  RfReg.fit(X_train,Y_train)\n"
     ]
    }
   ],
   "source": [
    "from sklearn.ensemble import RandomForestRegressor\n",
    "\n",
    "RfReg = RandomForestRegressor(n_estimators=15, random_state=0)\n",
    "RfReg.fit(X_train,Y_train)\n",
    "y_pred = RfReg.predict(X_test)\n",
    "y_pred\n",
    "mse_r = MSE(Y_test,y_pred)\n",
    "print(\"MSE of Random Forest Regression: \",mse_r)\n",
    "rmse_r = mse_r**(1/2)\n",
    "print(\"RMSE of Random Forest Regression: \",rmse_r)\n",
    "mae_r = MAE(Y_test,y_pred)\n",
    "print(\"MAE of Random Forest Regression: \",mae_r)\n",
    "rsquare_r = r2(Y_test,y_pred)\n",
    "print(\"R_Square of Random Forest Regression: \",rsquare_r)\n"
   ]
  },
  {
   "cell_type": "markdown",
   "id": "bc8d3feb",
   "metadata": {},
   "source": [
    "# Regression Tree"
   ]
  },
  {
   "cell_type": "markdown",
   "id": "b53b966b",
   "metadata": {},
   "source": [
    "from sklearn.tree import DecisionTreeRegressor\n",
    "from sklearn.metrics import mean_squared_error as MSE \n",
    "\n",
    "dt = DecisionTreeRegressor(max_depth=7,min_samples_leaf=0.1,random_state=0)\n",
    "dt.fit(X_train,Y_train)\n",
    "y_pred = dt.predict(X_test)\n",
    "y_pred\n",
    "mse_d = MSE(Y_test,y_pred)\n",
    "print(\"MSE of Decision Tree Regression: \",mse_d)\n",
    "rmse_d = mse_d**(1/2)\n",
    "print(\"RMSE of Decision Tree Regression: \",rmse_d)\n",
    "mae_d = MAE(Y_test,y_pred)\n",
    "print(\"MAE of Decision Tree Regression: \",mae_d)\n",
    "rsquare_d = r2(Y_test,y_pred)\n",
    "print(\"R_Square of Decision Tree Regression: \",rsquare_d)\n"
   ]
  },
  {
   "cell_type": "markdown",
   "id": "74d9e451",
   "metadata": {},
   "source": [
    "# Bayesian Ridge"
   ]
  },
  {
   "cell_type": "code",
   "execution_count": 22,
   "id": "0d4e2cb0",
   "metadata": {},
   "outputs": [
    {
     "name": "stdout",
     "output_type": "stream",
     "text": [
      "MSE of Bayesian Regression:  0.6244941494215172\n",
      "RMSE of Bayesian Regression:  0.7871062330057875\n",
      "MAE of Bayesian Regression:  0.5780657121967184\n",
      "R_Square of Bayesian Regression:  0.18606693723967982\n"
     ]
    },
    {
     "name": "stderr",
     "output_type": "stream",
     "text": [
      "E:\\Anaconda\\lib\\site-packages\\sklearn\\utils\\validation.py:63: DataConversionWarning: A column-vector y was passed when a 1d array was expected. Please change the shape of y to (n_samples, ), for example using ravel().\n",
      "  return f(*args, **kwargs)\n"
     ]
    }
   ],
   "source": [
    "BayReg = linear_model.BayesianRidge()\n",
    "BayReg.fit(X_train,Y_train)\n",
    "\n",
    "y_pred = BayReg.predict(X_test)\n",
    "y_pred\n",
    "\n",
    "mse_b = MSE(Y_test,y_pred)\n",
    "print(\"MSE of Bayesian Regression: \",mse_b)\n",
    "rmse_b = mse_b**(1/2)\n",
    "print(\"RMSE of Bayesian Regression: \",rmse_d)\n",
    "mae_b = MAE(Y_test,y_pred)\n",
    "print(\"MAE of Bayesian Regression: \",mae_b)\n",
    "rsquare_b = r2(Y_test,y_pred)\n",
    "print(\"R_Square of Bayesian Regression: \",rsquare_b)\n"
   ]
  },
  {
   "cell_type": "markdown",
   "id": "94c68b5e",
   "metadata": {},
   "source": [
    "# Support Vector Regression"
   ]
  },
  {
   "cell_type": "code",
   "execution_count": 23,
   "id": "e944c350",
   "metadata": {},
   "outputs": [
    {
     "name": "stdout",
     "output_type": "stream",
     "text": [
      "MSE of Support Vector Regression:  0.24992724776870973\n",
      "RMSE of Support Vector Regression:  0.49992724247505227\n",
      "MAE of Support Vector Regression:  0.3175323006772609\n",
      "R_Square of Support Vector Regression:  0.6742578766637293\n"
     ]
    },
    {
     "name": "stderr",
     "output_type": "stream",
     "text": [
      "E:\\Anaconda\\lib\\site-packages\\sklearn\\utils\\validation.py:63: DataConversionWarning: A column-vector y was passed when a 1d array was expected. Please change the shape of y to (n_samples, ), for example using ravel().\n",
      "  return f(*args, **kwargs)\n"
     ]
    }
   ],
   "source": [
    "from sklearn.svm import SVR\n",
    "regressor = SVR(kernel = 'rbf')\n",
    "regressor.fit(X_train,Y_train)\n",
    "\n",
    "y_pred = regressor.predict(X_test)\n",
    "y_pred\n",
    "\n",
    "mse_s = MSE(Y_test,y_pred)\n",
    "print(\"MSE of Support Vector Regression: \",mse_s)\n",
    "rmse_s = mse_s**(1/2)\n",
    "print(\"RMSE of Support Vector Regression: \",rmse_s)\n",
    "mae_s = MAE(Y_test,y_pred)\n",
    "print(\"MAE of Support Vector Regression: \",mae_s)\n",
    "rsquare_s = r2(Y_test,y_pred)\n",
    "print(\"R_Square of Support Vector Regression: \",rsquare_s)\n"
   ]
  },
  {
   "cell_type": "code",
   "execution_count": 101,
   "id": "862b3d98",
   "metadata": {},
   "outputs": [
    {
     "data": {
      "text/plain": [
       "array([0.21821601])"
      ]
     },
     "execution_count": 101,
     "metadata": {},
     "output_type": "execute_result"
    }
   ],
   "source": [
    "y_pred = regressor.predict([[1,1,4,4,0,1]])\n",
    "y_pred"
   ]
  },
  {
   "cell_type": "code",
   "execution_count": null,
   "id": "248bce14",
   "metadata": {},
   "outputs": [],
   "source": []
  }
 ],
 "metadata": {
  "kernelspec": {
   "display_name": "Python 3 (ipykernel)",
   "language": "python",
   "name": "python3"
  },
  "language_info": {
   "codemirror_mode": {
    "name": "ipython",
    "version": 3
   },
   "file_extension": ".py",
   "mimetype": "text/x-python",
   "name": "python",
   "nbconvert_exporter": "python",
   "pygments_lexer": "ipython3",
   "version": "3.9.7"
  }
 },
 "nbformat": 4,
 "nbformat_minor": 5
}
